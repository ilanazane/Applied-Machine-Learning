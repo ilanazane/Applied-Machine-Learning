{
 "cells": [
  {
   "cell_type": "code",
   "execution_count": 10,
   "id": "1922c779",
   "metadata": {},
   "outputs": [],
   "source": [
    "import numpy as np \n",
    "import pandas as pd\n",
    "from sklearn.neural_network import MLPClassifier\n",
    "import matplotlib.pyplot as plt"
   ]
  },
  {
   "cell_type": "markdown",
   "id": "4de741a5",
   "metadata": {},
   "source": [
    "# STEP 1: Clean and Split Dataset"
   ]
  },
  {
   "cell_type": "code",
   "execution_count": 2,
   "id": "57290856",
   "metadata": {},
   "outputs": [],
   "source": [
    "df = pd.read_csv(\"Titanic.csv\")\n",
    "df = df.drop(columns=['Unnamed: 0','name','ticket','fare','cabin','embarked','boat','body','home.dest','parch'])\n",
    "df_new = df[['pclass','sex','age','sibsp','survived']]\n",
    "\n",
    "pclass = {'1st': 1, '2nd': 2, '3rd': 3}\n",
    "sex = {'female': 0, 'male': 1}\n",
    "\n",
    "df_new['pclass'] = df_new['pclass'].map(pclass)\n",
    "df_new['sex'] = df_new['sex'].map(sex)\n",
    "df_new['age'] = df_new['age'].fillna(30)\n",
    "\n",
    "\n",
    "shuffled = df_new.sample(frac=1)\n",
    "\n",
    "\n",
    "\n",
    "split = int(.8*len(shuffled))\n",
    "train = shuffled[:split]\n",
    "test = shuffled[split:]\n",
    "\n",
    "x_train = train.iloc[:,0:4]\n",
    "y_train = train.iloc[:,4:5]\n",
    "\n",
    "x_test = test.iloc[:,0:4]\n",
    "y_test = test.iloc[:,4:5]"
   ]
  },
  {
   "cell_type": "markdown",
   "id": "e8f3760f",
   "metadata": {},
   "source": [
    "# Fit Neural Network #1 \n",
    "## 2 hidden layers, 2 neurons each "
   ]
  },
  {
   "cell_type": "code",
   "execution_count": 3,
   "id": "51be65b6",
   "metadata": {},
   "outputs": [
    {
     "name": "stdout",
     "output_type": "stream",
     "text": [
      "Score: 0.7748091603053435\n"
     ]
    },
    {
     "name": "stderr",
     "output_type": "stream",
     "text": [
      "/usr/local/lib/python3.9/site-packages/sklearn/neural_network/_multilayer_perceptron.py:1109: DataConversionWarning: A column-vector y was passed when a 1d array was expected. Please change the shape of y to (n_samples, ), for example using ravel().\n",
      "  y = column_or_1d(y, warn=True)\n"
     ]
    }
   ],
   "source": [
    "clf = MLPClassifier(solver = 'adam',alpha = .01,activation=\"logistic\",hidden_layer_sizes=(2, 2),learning_rate_init=0.05,momentum=.9)\n",
    "\n",
    "clf.fit(x_train,y_train)\n",
    "clf.predict(x_test)\n",
    "\n",
    "print(\"Score:\",clf.score(x_test,y_test))"
   ]
  },
  {
   "cell_type": "markdown",
   "id": "dc0a7869",
   "metadata": {},
   "source": [
    "# Check Perfomance of Neural Network #1 "
   ]
  },
  {
   "cell_type": "code",
   "execution_count": 4,
   "id": "467668c7",
   "metadata": {},
   "outputs": [
    {
     "name": "stdout",
     "output_type": "stream",
     "text": [
      " fatalities correctly predicted: 47.32824427480916\n",
      " survivals correctly predicted: 30.15267175572519\n"
     ]
    }
   ],
   "source": [
    "df_pred = pd.DataFrame(data = clf.predict(x_test),columns=['pred'])\n",
    "df_targ = pd.DataFrame(data = y_test)\n",
    "\n",
    "df_pred.reset_index(drop=True, inplace=True)\n",
    "df_targ.reset_index(drop=True, inplace=True)\n",
    "\n",
    "df_fin = pd.concat( [df_pred, df_targ], axis=1) \n",
    "\n",
    "\n",
    "\n",
    "zeros = df_fin[(df_fin[\"pred\"] == 0) & (df_fin[\"survived\"] == 0)]\n",
    "print(' fatalities correctly predicted:',len(zeros)/len(y_test)*100)\n",
    "ones = df_fin[(df_fin[\"pred\"] == 1) & (df_fin[\"survived\"] == 1)]\n",
    "print(' survivals correctly predicted:',len(ones)/len(y_test)*100)\n",
    "\n",
    "\n"
   ]
  },
  {
   "cell_type": "markdown",
   "id": "d768ef47",
   "metadata": {},
   "source": [
    "# Fit Neural Network #2\n",
    "## 2 hidden layers, 20 neurons and 10 neurons  "
   ]
  },
  {
   "cell_type": "code",
   "execution_count": 5,
   "id": "276f4b9b",
   "metadata": {},
   "outputs": [
    {
     "name": "stdout",
     "output_type": "stream",
     "text": [
      "Score: 0.8053435114503816\n"
     ]
    },
    {
     "name": "stderr",
     "output_type": "stream",
     "text": [
      "/usr/local/lib/python3.9/site-packages/sklearn/neural_network/_multilayer_perceptron.py:1109: DataConversionWarning: A column-vector y was passed when a 1d array was expected. Please change the shape of y to (n_samples, ), for example using ravel().\n",
      "  y = column_or_1d(y, warn=True)\n",
      "/usr/local/lib/python3.9/site-packages/sklearn/neural_network/_multilayer_perceptron.py:692: ConvergenceWarning: Stochastic Optimizer: Maximum iterations (35) reached and the optimization hasn't converged yet.\n",
      "  warnings.warn(\n"
     ]
    }
   ],
   "source": [
    "clf2 = MLPClassifier(solver = 'adam',alpha = .01,activation=\"logistic\",hidden_layer_sizes=(20, 10),learning_rate_init=0.05,momentum=.9,max_iter=35)\n",
    "\n",
    "\n",
    "clf2.fit(x_train,y_train)\n",
    "clf2.predict(x_test)\n",
    "\n",
    "print(\"Score:\",clf2.score(x_test,y_test))"
   ]
  },
  {
   "cell_type": "markdown",
   "id": "98a46b05",
   "metadata": {},
   "source": [
    "# Check Performance of Neural Network #2"
   ]
  },
  {
   "cell_type": "code",
   "execution_count": 13,
   "id": "0050fb2d",
   "metadata": {},
   "outputs": [
    {
     "name": "stdout",
     "output_type": "stream",
     "text": [
      " fatalities correctly predicted: 48.473282442748086\n",
      " survivals correctly predicted: 32.06106870229007\n"
     ]
    }
   ],
   "source": [
    "df_pred2 = pd.DataFrame(data = clf2.predict(x_test),columns=['pred'])\n",
    "df_targ2 = pd.DataFrame(data = y_test)\n",
    "\n",
    "df_pred2.reset_index(drop=True, inplace=True)\n",
    "df_targ2.reset_index(drop=True, inplace=True)\n",
    "\n",
    "df_fin2 = pd.concat( [df_pred2, df_targ2], axis=1) \n",
    "\n",
    "\n",
    "\n",
    "zeros = df_fin2[(df_fin2[\"pred\"] == 0) & (df_fin2[\"survived\"] == 0)]\n",
    "print(' fatalities correctly predicted:',len(zeros)/len(y_test)*100)\n",
    "ones = df_fin2[(df_fin2[\"pred\"] == 1) & (df_fin2[\"survived\"] == 1)]\n",
    "print(' survivals correctly predicted:',len(ones)/len(y_test)*100)"
   ]
  },
  {
   "cell_type": "markdown",
   "id": "1ed8aabb",
   "metadata": {},
   "source": [
    "# Accuracy of random forest \n",
    "\n",
    "## fatalities correctly predicted: 0.5190839694656488\n",
    "\n",
    "\n",
    "## survivals correctly predicted: 0.29389312977099236\n",
    "\n",
    "# Accuracy of neural network \n",
    "\n",
    "## fatalities correctly predicted: 48.473282442748086\n",
    "\n",
    "\n",
    "## survivals correctly predicted: 32.06106870229007"
   ]
  },
  {
   "cell_type": "markdown",
   "id": "88180926",
   "metadata": {},
   "source": [
    "the accuracy between the neural network and the random forest is very simnilar. The random forest was created in one iteration and the neural network was tested over one epoch. Neural networks and random forests are algorithms that are both suited for handling classification problems with non-linear data. I think that the data set was small enough that they were able to have similar performances. However, if the data set were larger we might find that the accuracy between the random forset and neural network might be more drastic. "
   ]
  },
  {
   "cell_type": "code",
   "execution_count": null,
   "id": "0503b6a1",
   "metadata": {},
   "outputs": [],
   "source": []
  }
 ],
 "metadata": {
  "kernelspec": {
   "display_name": "Python 3 (ipykernel)",
   "language": "python",
   "name": "python3"
  },
  "language_info": {
   "codemirror_mode": {
    "name": "ipython",
    "version": 3
   },
   "file_extension": ".py",
   "mimetype": "text/x-python",
   "name": "python",
   "nbconvert_exporter": "python",
   "pygments_lexer": "ipython3",
   "version": "3.9.10"
  }
 },
 "nbformat": 4,
 "nbformat_minor": 5
}
