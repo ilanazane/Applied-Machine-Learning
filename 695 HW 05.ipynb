{
 "cells": [
  {
   "cell_type": "code",
   "execution_count": 1,
   "id": "c1ee5dc5",
   "metadata": {},
   "outputs": [],
   "source": [
    "import numpy as np \n",
    "import matplotlib.pyplot as plt\n",
    "\n",
    "import numpy.random as random\n",
    "from operator import itemgetter\n",
    "\n",
    "from random import sample\n",
    "\n",
    "plt.style.use('seaborn-whitegrid')"
   ]
  },
  {
   "cell_type": "markdown",
   "id": "ee944e0c",
   "metadata": {},
   "source": [
    "# Plot data and find order of polynomial"
   ]
  },
  {
   "cell_type": "code",
   "execution_count": 139,
   "id": "3d9d4d90",
   "metadata": {},
   "outputs": [
    {
     "data": {
      "image/png": "[encoded data removed]",
      "text/plain": [
       "<Figure size 432x288 with 1 Axes>"
      ]
     },
     "metadata": {},
     "output_type": "display_data"
    }
   ],
   "source": [
    "noise_scale = 100 \n",
    "\n",
    "number_of_samples = 50 \n",
    "\n",
    "#define the noisy data\n",
    "x = 25*(np.random.rand(number_of_samples, 1) - 0.8)\n",
    "y = 7*x + 15*x**2 + 1*x**3 + noise_scale*np.random.randn(number_of_samples, 1)\n",
    "\n",
    "#this is the real polynomial \n",
    "y2 = 7*x + 15*x**2 + 1*x**3\n",
    "\n",
    "#flatten to 1D vectors \n",
    "xf = x.flatten()\n",
    "yf = y.flatten()\n",
    "\n",
    "\n",
    "#fit the polynomimal and find the MSE \n",
    "def polyplotter(m, x, y):\n",
    "    #find the coefficients\n",
    "    params = np.polyfit(x,y, m)\n",
    "    \n",
    "    total = 0\n",
    "    i = 0\n",
    "    while m >= 0:\n",
    "        #calculate y-hat\n",
    "        total += params[m]*x**(i)\n",
    "        m -= 1\n",
    "        i += 1\n",
    "        \n",
    "    return total\n",
    "#array that holds all MSE values for each data point \n",
    "mse_array = np.array([])    \n",
    "\n",
    "#change this range to create plots with different orders\n",
    "for i in range(3,4):\n",
    "    plt.plot(x,y,'ro',label = 'w/ noise')\n",
    "    plt.plot(x,y2,'bx',label = 'real')\n",
    "    \n",
    "    #plot the flattened, noisy data, with i = order \n",
    "    plotter = polyplotter(i, xf, yf)\n",
    "    \n",
    "    plt.plot(xf,plotter,'gx', label = 'order {} fit'.format(i))\n",
    "    plt.legend()\n",
    "    plt.show() \n",
    "    \n",
    "\n",
    "    plotter = np.array(plotter)\n",
    "    yf = np.array(yf)\n",
    "    \n",
    "    #calculate MSE \n",
    "    diff = yf - plotter\n",
    "    ans = 1/len(plotter)*np.dot(diff, diff)\n",
    "    \n",
    "    \n",
    "    mse_array = np.append(mse_array,ans)\n",
    "\n"
   ]
  },
  {
   "cell_type": "markdown",
   "id": "a011b389",
   "metadata": {},
   "source": [
    "# Define functions to be used for genetic algorithm \n",
    "## we will use a genetic algorithm to find the coefficients that lead to the line of best fit for the same noisy data"
   ]
  },
  {
   "cell_type": "code",
   "execution_count": 149,
   "id": "1ddd197f",
   "metadata": {},
   "outputs": [],
   "source": [
    "#define the fitness function, where we calculate the MSE \n",
    "def fitness(xf,yf,chromo):\n",
    "    coefsANDmse = []\n",
    "    msearr = []\n",
    "    \n",
    "    for i in range(len(chromo)):\n",
    "        x = xf \n",
    "        y = yf\n",
    "        #chromo is a list of four coefficients \n",
    "        a,b,c,d = chromo[i]\n",
    "        #calculate y-prime \n",
    "        y_prime = a*x**3 + b*x**2 + c*x + d\n",
    "        #for each chromosome we calculate the MSE with each (x,y) data point and sum the MSE \n",
    "        ans = sum(y-y_prime)**2\n",
    "        msearr.append(ans)\n",
    "        #array that contains each chromosome and their respective MSE \n",
    "        coefsANDmse.append([chromo[i],ans])\n",
    "    #sort the chromosomes by their respective MSE \n",
    "    result = sorted(coefsANDmse, key = itemgetter(1))\n",
    "    #result is sorted from smallest MSE to largest MSE\n",
    "    #choose the top ten results (smallest MSE)\n",
    "    topTen = np.array(result[0:10])\n",
    "    \n",
    "    #discard MSE values \n",
    "    topTen = topTen[:,0]\n",
    "    \n",
    "    return topTen \n",
    "\n",
    "\n",
    "\n",
    "def crossover(tops,tops1,xoverRate):\n",
    "    #random integer that will be compared to predetermined xoverRate\n",
    "    r_cross = np.random.rand()\n",
    "    \n",
    "    #create the two parents and children \n",
    "    parent1 = tops \n",
    "    parent2 = tops1 \n",
    "    child1 = np.array([])\n",
    "    child2 = np.array([])\n",
    "    \n",
    "    #if r_cross is less than the xoverRate, then we will perform crossover\n",
    "    if r_cross < xoverRate:\n",
    "        #select some point in the string to crossover \n",
    "        xoverPoint = np.random.randint(1, len(tops)-1)\n",
    "        #perform the crossover \n",
    "        child1 = np.concatenate((parent1[:xoverPoint],parent2[xoverPoint:]),axis=0)\n",
    "        child2 = np.concatenate((parent2[:xoverPoint],parent1[xoverPoint:]),axis=0)\n",
    "        \n",
    "        return child1, child2\n",
    "    else: \n",
    "        return parent1, parent2 \n",
    "    \n",
    "    \n",
    "def mutate(crossed,mutRate):\n",
    "    #r_mut is randomm value, will compare to predetermined mutRate\n",
    "    r_mut = np.random.rand()\n",
    "    if r_mut < mutRate: \n",
    "        for l in range(len(crossed)): \n",
    "            #flip the values and multiply by 0.5\n",
    "            #this mutation rule is arbitrary and can be changed \n",
    "            crossed[l] = 1-crossed[l]*0.5\n",
    "    return crossed\n",
    "    \n",
    "\n",
    "\n",
    "#final genetic algorithm, here we call all of the above functions     \n",
    "def genetic_algo(xf,yf,matrix1,num_iter,xoverRate,threshold):\n",
    "    #matrix1 contains our initial random population of 100 chromosomes \n",
    "    #initialize our placeholder population \n",
    "    population = []\n",
    "    #find the top ten chromosomes \n",
    "    tops = fitness(xf,yf,matrix1) \n",
    "    \n",
    "    for i in range(num_iter):\n",
    "    \n",
    "        for j in range(len(tops)-1):\n",
    "            #take the top ten and for every pair(which are the parents) perform crossover \n",
    "            child1,child2 = crossover(tops[j],tops[j+1],xoverRate)\n",
    "        \n",
    "            #add the crossover children to the placeholder population, if applicable \n",
    "            population += child1,child2\n",
    "            \n",
    "            population = np.array(population)\n",
    "            #create a new population that contains oringial population plus the new children(from placeholder pop)\n",
    "            new_pop = np.concatenate((matrix1,population),axis = 0)\n",
    "            new_pop = np.array(new_pop)\n",
    "        \n",
    "            #pick a random subset from the new population, which contains all generations thus far\n",
    "            subfirst = np.random.randint(0,len(new_pop)-1)\n",
    "            subsecond = np.random.randint(0,len(new_pop)-1)\n",
    "\n",
    "            #sample of new population will be used for mutation \n",
    "            toBeMutated = new_pop[subfirst:subsecond]\n",
    "            #mutation rate is between 1/len(new_pop) and 1/50\n",
    "            a = float(1/50)\n",
    "            mutRate = random.uniform(1/len(new_pop), a)\n",
    "            #perform mutation if applicable \n",
    "            mutated = mutate(toBeMutated,mutRate)\n",
    "            #new population now contains mutated chromosomes \n",
    "            new_pop = np.concatenate((new_pop,mutated),axis = 0)\n",
    "   \n",
    "        \n",
    "        #evaluate the fitness of this new population and select top ten chromosomes \n",
    "        evaluated = fitness(xf,yf,new_pop)\n",
    "        #if our error is still too large, add the next top ten to the population and continue the process until\n",
    "        #we reach our threshold \n",
    "        if error > threshold:\n",
    "            #increase population \n",
    "            new_pop = np.append(new_pop,evaluated)\n",
    "        else: \n",
    "            pass\n",
    "        #if we are happy with our coefficients then return the top ten and later select the top one \n",
    "        return evaluated,error \n",
    "\n",
    "            \n"
   ]
  },
  {
   "cell_type": "markdown",
   "id": "9424c807",
   "metadata": {},
   "source": [
    "# Generate Initial Population and call Genetic Algorithm"
   ]
  },
  {
   "cell_type": "code",
   "execution_count": 162,
   "id": "62ba6b3a",
   "metadata": {},
   "outputs": [
    {
     "name": "stderr",
     "output_type": "stream",
     "text": [
      "/var/folders/rj/6xj9852x0fxfntwp49y4v84c0000gn/T/ipykernel_4539/2670370420.py:22: VisibleDeprecationWarning: Creating an ndarray from ragged nested sequences (which is a list-or-tuple of lists-or-tuples-or ndarrays with different lengths or shapes) is deprecated. If you meant to do this, you must specify 'dtype=object' when creating the ndarray.\n",
      "  topTen = np.array(result[0:10])\n"
     ]
    },
    {
     "data": {
      "image/png": "[encoded data removed]",
      "text/plain": [
       "<Figure size 432x288 with 1 Axes>"
      ]
     },
     "metadata": {},
     "output_type": "display_data"
    }
   ],
   "source": [
    "#matrix1 contains our random, initial population, with 100 chromosomes, each of length 4, with values between 0 and 20 \n",
    "matrix1 = []\n",
    "for i in range(100):\n",
    "    matrix1.append(np.random.randint(20,size=4))\n",
    "    \n",
    "matrix1 = np.array(matrix1)\n",
    "\n",
    "\n",
    "#here we set the number of iterations, the crossover rate, and the error threshold\n",
    "num_iter = 1000\n",
    "\n",
    "xoverRate = 0.1\n",
    " \n",
    "threshold = 100\n",
    "\n",
    "#find the coefficients through the genetic algorithm \n",
    "coefs,error = genetic_algo(xf,yf,matrix1,num_iter,xoverRate,threshold)\n",
    "\n",
    "#plot original noisy data and the actual polynomial for reference\n",
    "plt.plot(x,y,'ro',label = 'w/ noise')\n",
    "plt.plot(x,y2,'bx',label = 'real')\n",
    "\n",
    "#function to fit the polynomial with the found coefficients, for plotting purposes only \n",
    "def cubic(x,y,params):\n",
    "    a,b,c,d = params\n",
    "    plt.scatter(x, a*x**3 + b*x**2 + c*x + d,c='green',label='fitted')\n",
    "    plt.legend()\n",
    "    \n",
    "#fit the polynomial with the top one chromosome(has the smallest MSE)\n",
    "cubic(xf,yf,coefs[0])\n",
    "#plot\n",
    "plt.legend()\n",
    "plt.show() \n",
    "\n",
    "\n",
    "\n",
    "#note that this is not completely accurate and can take a few tries to find the right set of coefficients. \n",
    "#this might be because the way i am mutating is not the best way to do so. also results may be better with different \n",
    "#mutation rates and crossover rates. However, results significantly improve with an increase in the number of iterations "
   ]
  },
  {
   "cell_type": "code",
   "execution_count": null,
   "id": "9bc473d3",
   "metadata": {},
   "outputs": [],
   "source": []
  },
  {
   "cell_type": "code",
   "execution_count": null,
   "id": "fe83c5e6",
   "metadata": {},
   "outputs": [],
   "source": []
  },
  {
   "cell_type": "code",
   "execution_count": null,
   "id": "89bd2952",
   "metadata": {},
   "outputs": [],
   "source": []
  },
  {
   "cell_type": "code",
   "execution_count": null,
   "id": "6acec1de",
   "metadata": {},
   "outputs": [],
   "source": []
  },
  {
   "cell_type": "code",
   "execution_count": null,
   "id": "28f6dd30",
   "metadata": {},
   "outputs": [],
   "source": []
  },
  {
   "cell_type": "code",
   "execution_count": null,
   "id": "6666d79b",
   "metadata": {},
   "outputs": [],
   "source": []
  },
  {
   "cell_type": "code",
   "execution_count": null,
   "id": "b605ee0e",
   "metadata": {},
   "outputs": [],
   "source": []
  },
  {
   "cell_type": "code",
   "execution_count": null,
   "id": "c9509b88",
   "metadata": {},
   "outputs": [],
   "source": []
  },
  {
   "cell_type": "code",
   "execution_count": null,
   "id": "87384bb4",
   "metadata": {},
   "outputs": [],
   "source": []
  },
  {
   "cell_type": "code",
   "execution_count": null,
   "id": "4b6c33d0",
   "metadata": {},
   "outputs": [],
   "source": []
  },
  {
   "cell_type": "code",
   "execution_count": null,
   "id": "826a35a2",
   "metadata": {},
   "outputs": [],
   "source": []
  },
  {
   "cell_type": "code",
   "execution_count": null,
   "id": "e9ee26ab",
   "metadata": {},
   "outputs": [],
   "source": []
  },
  {
   "cell_type": "code",
   "execution_count": null,
   "id": "897cb928",
   "metadata": {},
   "outputs": [],
   "source": []
  },
  {
   "cell_type": "code",
   "execution_count": null,
   "id": "d6e76176",
   "metadata": {},
   "outputs": [],
   "source": []
  },
  {
   "cell_type": "code",
   "execution_count": null,
   "id": "de1e1ca2",
   "metadata": {},
   "outputs": [],
   "source": []
  }
 ],
 "metadata": {
  "kernelspec": {
   "display_name": "Python 3 (ipykernel)",
   "language": "python",
   "name": "python3"
  },
  "language_info": {
   "codemirror_mode": {
    "name": "ipython",
    "version": 3
   },
   "file_extension": ".py",
   "mimetype": "text/x-python",
   "name": "python",
   "nbconvert_exporter": "python",
   "pygments_lexer": "ipython3",
   "version": "3.9.10"
  }
 },
 "nbformat": 4,
 "nbformat_minor": 5
}
