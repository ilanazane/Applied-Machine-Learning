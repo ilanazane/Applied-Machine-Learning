{
 "cells": [
  {
   "cell_type": "code",
   "execution_count": 1,
   "id": "b4fa1eb8",
   "metadata": {},
   "outputs": [],
   "source": [
    "import numpy as np \n",
    "import matplotlib.pyplot as plt\n",
    "import matplotlib.image as pltimg\n",
    "import pandas as pd "
   ]
  },
  {
   "cell_type": "code",
   "execution_count": 2,
   "id": "896cf016",
   "metadata": {},
   "outputs": [],
   "source": [
    "from sklearn.tree import DecisionTreeClassifier\n",
    "import pydotplus\n",
    "from sklearn.tree import export_graphviz"
   ]
  },
  {
   "cell_type": "markdown",
   "id": "f33eac46",
   "metadata": {},
   "source": [
    "# Decision Tree Classifier"
   ]
  },
  {
   "cell_type": "code",
   "execution_count": 3,
   "id": "f781952a",
   "metadata": {},
   "outputs": [],
   "source": [
    "#load the data \n",
    "titanic = pd.read_csv(\"Titanic.csv\")\n",
    "\n",
    "shuffled = titanic \n",
    "shuffled = shuffled.sample(frac=1)\n",
    "\n",
    "#map data and fill NaN values\n",
    "shuffled['age'] = shuffled['age'].fillna(30)\n",
    "pclass = {'1st': 1, '2nd': 2, '3rd': 3}\n",
    "sex = {'female': 0, 'male': 1}\n",
    "\n",
    "shuffled['pclass'] = shuffled['pclass'].map(pclass)\n",
    "shuffled['sex'] = shuffled['sex'].map(sex)\n",
    "\n",
    "#split the data into training and testing \n",
    "split = int(.8*len(shuffled))\n",
    "train = shuffled[:split]\n",
    "test = shuffled[split:]\n",
    "\n",
    "train.head()\n",
    "#x is independent and y is dependent \n",
    "features = ['pclass', 'sex', 'age', 'sibsp']\n",
    "target = ['survived']\n",
    "\n",
    "X = train[features]\n",
    "Y = train['survived']\n",
    "\n",
    "x_test = test[features]\n",
    "y_test = test['survived']\n",
    "\n",
    "dtree = DecisionTreeClassifier()\n",
    "dtree = dtree.fit(X, Y)\n",
    "\n",
    "\n",
    "export_graphviz(\n",
    "            dtree,\n",
    "            out_file=(\"final_tree.dot\"),\n",
    "            feature_names=features,\n",
    "            class_names= ['no','yes'],\n",
    "            rounded=True,\n",
    "            filled=True\n",
    "        )"
   ]
  },
  {
   "cell_type": "markdown",
   "id": "15dc43eb",
   "metadata": {},
   "source": [
    "# GridSearchCV"
   ]
  },
  {
   "cell_type": "code",
   "execution_count": 4,
   "id": "0afece05",
   "metadata": {},
   "outputs": [
    {
     "name": "stdout",
     "output_type": "stream",
     "text": [
      "Fitting 3 folds for each of 294 candidates, totalling 882 fits\n"
     ]
    },
    {
     "data": {
      "text/plain": [
       "GridSearchCV(cv=3, estimator=DecisionTreeClassifier(random_state=42),\n",
       "             param_grid={'max_leaf_nodes': [2, 3, 4, 5, 6, 7, 8, 9, 10, 11, 12,\n",
       "                                            13, 14, 15, 16, 17, 18, 19, 20, 21,\n",
       "                                            22, 23, 24, 25, 26, 27, 28, 29, 30,\n",
       "                                            31, ...],\n",
       "                         'min_samples_split': [2, 3, 4]},\n",
       "             verbose=1)"
      ]
     },
     "execution_count": 4,
     "metadata": {},
     "output_type": "execute_result"
    }
   ],
   "source": [
    "from sklearn.model_selection import GridSearchCV\n",
    "\n",
    "params = {'max_leaf_nodes': list(range(2, 100)), 'min_samples_split': [2, 3, 4]}\n",
    "grid_search_cv = GridSearchCV(DecisionTreeClassifier(random_state=42), params, verbose=1, cv=3)\n",
    "grid_search_cv.fit(X, Y)"
   ]
  },
  {
   "cell_type": "code",
   "execution_count": 5,
   "id": "e4a71364",
   "metadata": {},
   "outputs": [
    {
     "name": "stdout",
     "output_type": "stream",
     "text": [
      "DecisionTreeClassifier(max_leaf_nodes=10, random_state=42)\n",
      "the optimmum number of the max_leaf_nodes parameter is 27\n"
     ]
    }
   ],
   "source": [
    "print(grid_search_cv.best_estimator_)\n",
    "print('the optimmum number of the max_leaf_nodes parameter is 27')"
   ]
  },
  {
   "cell_type": "code",
   "execution_count": 6,
   "id": "aa97328f",
   "metadata": {},
   "outputs": [],
   "source": [
    "export_graphviz(\n",
    "            grid_search_cv.best_estimator_,\n",
    "            out_file=(\"gridsearch.dot\"),\n",
    "            feature_names=features,\n",
    "            class_names= ['no','yes'],\n",
    "            rounded=True,\n",
    "            filled=True\n",
    "        )"
   ]
  },
  {
   "cell_type": "code",
   "execution_count": 7,
   "id": "74732e56",
   "metadata": {},
   "outputs": [
    {
     "name": "stdout",
     "output_type": "stream",
     "text": [
      "0.8091603053435115\n"
     ]
    }
   ],
   "source": [
    "from sklearn.metrics import accuracy_score\n",
    "yhat_test = grid_search_cv.best_estimator_.predict(x_test)\n",
    "# Compute accuracy based on test samples\n",
    "acc = accuracy_score(y_test, yhat_test)\n",
    "print(acc)"
   ]
  },
  {
   "cell_type": "code",
   "execution_count": 8,
   "id": "396dfa13",
   "metadata": {},
   "outputs": [
    {
     "data": {
      "text/html": [
       "<div>\n",
       "<style scoped>\n",
       "    .dataframe tbody tr th:only-of-type {\n",
       "        vertical-align: middle;\n",
       "    }\n",
       "\n",
       "    .dataframe tbody tr th {\n",
       "        vertical-align: top;\n",
       "    }\n",
       "\n",
       "    .dataframe thead th {\n",
       "        text-align: right;\n",
       "    }\n",
       "</style>\n",
       "<table border=\"1\" class=\"dataframe\">\n",
       "  <thead>\n",
       "    <tr style=\"text-align: right;\">\n",
       "      <th></th>\n",
       "      <th>y_test</th>\n",
       "      <th>yhat_test</th>\n",
       "    </tr>\n",
       "  </thead>\n",
       "  <tbody>\n",
       "    <tr>\n",
       "      <th>160</th>\n",
       "      <td>1</td>\n",
       "      <td>1</td>\n",
       "    </tr>\n",
       "    <tr>\n",
       "      <th>450</th>\n",
       "      <td>0</td>\n",
       "      <td>0</td>\n",
       "    </tr>\n",
       "    <tr>\n",
       "      <th>228</th>\n",
       "      <td>0</td>\n",
       "      <td>1</td>\n",
       "    </tr>\n",
       "    <tr>\n",
       "      <th>360</th>\n",
       "      <td>1</td>\n",
       "      <td>0</td>\n",
       "    </tr>\n",
       "    <tr>\n",
       "      <th>288</th>\n",
       "      <td>1</td>\n",
       "      <td>1</td>\n",
       "    </tr>\n",
       "    <tr>\n",
       "      <th>...</th>\n",
       "      <td>...</td>\n",
       "      <td>...</td>\n",
       "    </tr>\n",
       "    <tr>\n",
       "      <th>674</th>\n",
       "      <td>1</td>\n",
       "      <td>0</td>\n",
       "    </tr>\n",
       "    <tr>\n",
       "      <th>247</th>\n",
       "      <td>1</td>\n",
       "      <td>1</td>\n",
       "    </tr>\n",
       "    <tr>\n",
       "      <th>1044</th>\n",
       "      <td>1</td>\n",
       "      <td>1</td>\n",
       "    </tr>\n",
       "    <tr>\n",
       "      <th>1221</th>\n",
       "      <td>0</td>\n",
       "      <td>0</td>\n",
       "    </tr>\n",
       "    <tr>\n",
       "      <th>284</th>\n",
       "      <td>1</td>\n",
       "      <td>1</td>\n",
       "    </tr>\n",
       "  </tbody>\n",
       "</table>\n",
       "<p>262 rows × 2 columns</p>\n",
       "</div>"
      ],
      "text/plain": [
       "      y_test  yhat_test\n",
       "160        1          1\n",
       "450        0          0\n",
       "228        0          1\n",
       "360        1          0\n",
       "288        1          1\n",
       "...      ...        ...\n",
       "674        1          0\n",
       "247        1          1\n",
       "1044       1          1\n",
       "1221       0          0\n",
       "284        1          1\n",
       "\n",
       "[262 rows x 2 columns]"
      ]
     },
     "metadata": {},
     "output_type": "display_data"
    },
    {
     "name": "stdout",
     "output_type": "stream",
     "text": [
      "Accuracy of Pruned Tree:\n",
      "fatalities correctly predicted: 0.5114503816793893\n",
      "survivals correctly predicted: 0.29770992366412213\n"
     ]
    }
   ],
   "source": [
    "results = pd.DataFrame(data=y_test)\n",
    "results = results.rename(columns={\"survived\": \"y_test\"})\n",
    "results['yhat_test'] = yhat_test\n",
    "display(results)\n",
    "#percent survivors correctly predicted (on test set)\n",
    "#results['y_test']==0\n",
    "# fin = pd.DataFrame(results['y_test']==0)\n",
    "# display(fin)\n",
    "\n",
    "zeros = results[(results[\"y_test\"] == 0) & (results[\"yhat_test\"] == 0)]\n",
    "print('Accuracy of Pruned Tree:')\n",
    "print('fatalities correctly predicted:',len(zeros)/len(yhat_test))\n",
    "ones = results[(results[\"y_test\"] == 1) & (results[\"yhat_test\"] == 1)]\n",
    "print('survivals correctly predicted:',len(ones)/len(yhat_test))\n",
    "#percent fatalities correctly predicted (on test set)"
   ]
  },
  {
   "cell_type": "code",
   "execution_count": 9,
   "id": "2f150d14",
   "metadata": {},
   "outputs": [],
   "source": [
    "from sklearn.ensemble import RandomForestClassifier"
   ]
  },
  {
   "cell_type": "code",
   "execution_count": 10,
   "id": "9d45d3d3",
   "metadata": {},
   "outputs": [
    {
     "name": "stdout",
     "output_type": "stream",
     "text": [
      "Accuracy of random forest \n",
      "fatalities correctly predicted: 0.5190839694656488\n",
      "survivals correctly predicted: 0.29389312977099236\n"
     ]
    }
   ],
   "source": [
    "rnd_clf = RandomForestClassifier(n_estimators=50, max_leaf_nodes=27, n_jobs=-1)\n",
    "rnd_clf.fit(X, Y)\n",
    "\n",
    "y_pred_rf = rnd_clf.predict(x_test)\n",
    " \n",
    "will = pd.DataFrame(columns=['pred','real'])\n",
    "will['real'] = y_test\n",
    "will['pred'] = y_pred_rf\n",
    "will\n",
    "\n",
    "zeros = will[(will[\"pred\"] == 0) & (will[\"real\"] == 0)]\n",
    "print('Accuracy of random forest ')\n",
    "print('fatalities correctly predicted:',len(zeros)/len(y_test))\n",
    "ones = will[(will[\"pred\"] == 1) & (will[\"real\"] == 1)]\n",
    "print('survivals correctly predicted:',len(ones)/len(y_test))"
   ]
  },
  {
   "cell_type": "code",
   "execution_count": null,
   "id": "b4cc6e42",
   "metadata": {},
   "outputs": [],
   "source": []
  }
 ],
 "metadata": {
  "kernelspec": {
   "display_name": "Python 3 (ipykernel)",
   "language": "python",
   "name": "python3"
  },
  "language_info": {
   "codemirror_mode": {
    "name": "ipython",
    "version": 3
   },
   "file_extension": ".py",
   "mimetype": "text/x-python",
   "name": "python",
   "nbconvert_exporter": "python",
   "pygments_lexer": "ipython3",
   "version": "3.9.10"
  }
 },
 "nbformat": 4,
 "nbformat_minor": 5
}
